{
 "cells": [
  {
   "cell_type": "markdown",
   "metadata": {},
   "source": [
    "# Hooks\n",
    "Hooks are simple functions that can be registered to be called during the forward or backward pass of a `nn.Module`.\n",
    "These functions can be used to print out information or modify the module.\n",
    "\n",
    "Here is a simple forward hook example that prints some information about the input and output of a module.\n",
    "\n",
    "Tip: Don't forget to remove the hook afterwards!\n",
    "\n",
    "Ref:\n",
    "- https://pytorch.org/tutorials/beginner/former_torchies/nn_tutorial.html#forward-and-backward-function-hooks\n",
    "- https://pytorch.org/docs/master/nn.html#torch.nn.Module.register_forward_hook\n",
    "- https://pytorch.org/docs/master/nn.html#torch.nn.Module.register_forward_pre_hook\n",
    "- https://pytorch.org/docs/master/nn.html#torch.nn.Module.register_backward_hook"
   ]
  },
  {
   "cell_type": "code",
   "execution_count": 1,
   "metadata": {
    "execution": {
     "iopub.execute_input": "2020-12-06T08:34:50.972704Z",
     "iopub.status.busy": "2020-12-06T08:34:50.971990Z",
     "iopub.status.idle": "2020-12-06T08:34:50.975122Z",
     "shell.execute_reply": "2020-12-06T08:34:50.974327Z"
    }
   },
   "outputs": [],
   "source": [
    "def tensorinfo_hook(module, input_, output):\n",
    "    \"\"\"\n",
    "    Register this forward hook to print some infos about the tensor/module.\n",
    "\n",
    "    Example:\n",
    "\n",
    "        >>> from torchvision.models import resnet18\n",
    "        >>> model = resnet18(pretrained=False)\n",
    "        >>> hook_fc = model.fc.register_forward_hook(tensorinfo_hook)\n",
    "        >>> # model(torch.ones(1, 3, 244, 244))\n",
    "        >>> hook_fc.remove()\n",
    "\n",
    "    \"\"\"\n",
    "    print(f\"Inside '{module.__class__.__name__}' forward\")\n",
    "    print(f\"  input:     {str(type(input_)):<25}\")\n",
    "    print(f\"  input[0]:  {str(type(input_[0])):<25} {input_[0].size()}\")\n",
    "    print(f\"  output:    {str(type(output)):<25} {output.data.size()}\")\n",
    "    print()"
   ]
  },
  {
   "cell_type": "code",
   "execution_count": 2,
   "metadata": {
    "execution": {
     "iopub.execute_input": "2020-12-06T08:34:50.979331Z",
     "iopub.status.busy": "2020-12-06T08:34:50.978607Z",
     "iopub.status.idle": "2020-12-06T08:34:51.322078Z",
     "shell.execute_reply": "2020-12-06T08:34:51.322341Z"
    }
   },
   "outputs": [],
   "source": [
    "import torch\n",
    "import torch.nn as nn"
   ]
  },
  {
   "cell_type": "code",
   "execution_count": 3,
   "metadata": {
    "execution": {
     "iopub.execute_input": "2020-12-06T08:34:51.324816Z",
     "iopub.status.busy": "2020-12-06T08:34:51.324506Z",
     "iopub.status.idle": "2020-12-06T08:34:51.325876Z",
     "shell.execute_reply": "2020-12-06T08:34:51.326156Z"
    }
   },
   "outputs": [],
   "source": [
    "m = nn.Linear(1, 3)"
   ]
  },
  {
   "cell_type": "code",
   "execution_count": 4,
   "metadata": {
    "execution": {
     "iopub.execute_input": "2020-12-06T08:34:51.328097Z",
     "iopub.status.busy": "2020-12-06T08:34:51.327781Z",
     "iopub.status.idle": "2020-12-06T08:34:51.329533Z",
     "shell.execute_reply": "2020-12-06T08:34:51.329223Z"
    }
   },
   "outputs": [],
   "source": [
    "hook = m.register_forward_hook(tensorinfo_hook)"
   ]
  },
  {
   "cell_type": "code",
   "execution_count": 5,
   "metadata": {
    "execution": {
     "iopub.execute_input": "2020-12-06T08:34:51.331641Z",
     "iopub.status.busy": "2020-12-06T08:34:51.331334Z",
     "iopub.status.idle": "2020-12-06T08:34:51.337940Z",
     "shell.execute_reply": "2020-12-06T08:34:51.337595Z"
    }
   },
   "outputs": [
    {
     "name": "stdout",
     "output_type": "stream",
     "text": [
      "Inside 'Linear' forward\n",
      "  input:     <class 'tuple'>          \n",
      "  input[0]:  <class 'torch.Tensor'>    torch.Size([1])\n",
      "  output:    <class 'torch.Tensor'>    torch.Size([3])\n",
      "\n"
     ]
    },
    {
     "data": {
      "text/plain": [
       "tensor([ 0.3400, -1.6105,  0.1007], grad_fn=<AddBackward0>)"
      ]
     },
     "execution_count": 1,
     "metadata": {},
     "output_type": "execute_result"
    }
   ],
   "source": [
    "m(torch.rand(1));"
   ]
  },
  {
   "cell_type": "code",
   "execution_count": 6,
   "metadata": {
    "execution": {
     "iopub.execute_input": "2020-12-06T08:34:51.339936Z",
     "iopub.status.busy": "2020-12-06T08:34:51.339628Z",
     "iopub.status.idle": "2020-12-06T08:34:51.341377Z",
     "shell.execute_reply": "2020-12-06T08:34:51.341055Z"
    }
   },
   "outputs": [],
   "source": [
    "hook.remove()"
   ]
  },
  {
   "cell_type": "markdown",
   "metadata": {},
   "source": [
    "## Exercise\n",
    "- Write a context manager hook that removes the hook when leaving the with block."
   ]
  }
 ],
 "metadata": {
  "kernelspec": {
   "display_name": "Python 3",
   "language": "python",
   "name": "python3"
  },
  "language_info": {
   "codemirror_mode": {
    "name": "ipython",
    "version": 3
   },
   "file_extension": ".py",
   "mimetype": "text/x-python",
   "name": "python",
   "nbconvert_exporter": "python",
   "pygments_lexer": "ipython3",
   "version": "3.8.5"
  }
 },
 "nbformat": 4,
 "nbformat_minor": 2
}
