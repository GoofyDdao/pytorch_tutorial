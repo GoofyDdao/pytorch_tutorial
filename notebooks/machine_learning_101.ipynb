{
 "cells": [
  {
   "cell_type": "markdown",
   "metadata": {},
   "source": [
    "# ML 101 Recap\n",
    "\n",
    "**ML = model + loss + optimizer**\n",
    "\n",
    "\n",
    "## Linear regression example\n",
    "\n",
    "0. Data\n",
    "\n",
    "1. Model:\n",
    "  - $f(X) = X \\beta = \\hat y$\n",
    "\n",
    "2. Loss / criterion:\n",
    "  - $ err_i = y_i - f(X_i)$\n",
    "  - $MSE = \\frac{1}{n} \\sum_{i=1}^{N} err_i^2$\n",
    "  \n",
    "3. Optimize:\n",
    "  - minimize the MSE yields the optimal $\\hat\\beta$ (after doing some math)\n",
    "  - $\\hat\\beta = (X^TX)^{-1}X^Ty$\n",
    "  - (or, more generally, use gradient descent to optimize the parameters)"
   ]
  },
  {
   "cell_type": "code",
   "execution_count": 1,
   "metadata": {
    "execution": {
     "iopub.execute_input": "2020-11-27T14:28:42.307750Z",
     "iopub.status.busy": "2020-11-27T14:28:42.305927Z",
     "iopub.status.idle": "2020-11-27T14:28:42.668421Z",
     "shell.execute_reply": "2020-11-27T14:28:42.667814Z"
    }
   },
   "outputs": [],
   "source": [
    "import numpy as np\n",
    "from numpy.linalg import inv\n",
    "from numpy.linalg import multi_dot as mdot\n",
    "\n",
    "import matplotlib.pyplot as plt\n",
    "\n",
    "%matplotlib inline"
   ]
  },
  {
   "cell_type": "markdown",
   "metadata": {},
   "source": [
    "## LinReg with numpy"
   ]
  },
  {
   "cell_type": "code",
   "execution_count": 2,
   "metadata": {
    "execution": {
     "iopub.execute_input": "2020-11-27T14:28:42.673579Z",
     "iopub.status.busy": "2020-11-27T14:28:42.672931Z",
     "iopub.status.idle": "2020-11-27T14:28:42.675332Z",
     "shell.execute_reply": "2020-11-27T14:28:42.675671Z"
    }
   },
   "outputs": [
    {
     "data": {
      "text/plain": [
       "((5, 3), (5,))"
      ]
     },
     "execution_count": 1,
     "metadata": {},
     "output_type": "execute_result"
    }
   ],
   "source": [
    "X = np.random.random((5, 3))\n",
    "y = np.random.random(5)\n",
    "X.shape, y.shape"
   ]
  },
  {
   "cell_type": "markdown",
   "metadata": {},
   "source": [
    "Calculate the optimal parameter:\n",
    "$\\hat\\beta = (X^T X)^{-1} X^T y$"
   ]
  },
  {
   "cell_type": "code",
   "execution_count": 3,
   "metadata": {
    "execution": {
     "iopub.execute_input": "2020-11-27T14:28:42.679471Z",
     "iopub.status.busy": "2020-11-27T14:28:42.678903Z",
     "iopub.status.idle": "2020-11-27T14:28:42.681090Z",
     "shell.execute_reply": "2020-11-27T14:28:42.681553Z"
    }
   },
   "outputs": [
    {
     "data": {
      "text/plain": [
       "array([0.2881746 , 0.23929118, 1.04582605])"
      ]
     },
     "execution_count": 1,
     "metadata": {},
     "output_type": "execute_result"
    }
   ],
   "source": [
    "XT = X.T  # transpose\n",
    "\n",
    "beta_ = mdot([inv(XT @ X), XT, y])\n",
    "beta_"
   ]
  },
  {
   "cell_type": "code",
   "execution_count": 4,
   "metadata": {
    "execution": {
     "iopub.execute_input": "2020-11-27T14:28:42.685006Z",
     "iopub.status.busy": "2020-11-27T14:28:42.684458Z",
     "iopub.status.idle": "2020-11-27T14:28:42.690628Z",
     "shell.execute_reply": "2020-11-27T14:28:42.688706Z"
    }
   },
   "outputs": [
    {
     "data": {
      "text/plain": [
       "array([0.2881746 , 0.23929118, 1.04582605])"
      ]
     },
     "execution_count": 1,
     "metadata": {},
     "output_type": "execute_result"
    }
   ],
   "source": [
    "XT = X.T  # transpose\n",
    "\n",
    "beta_ = inv(XT @ X) @ XT @ y\n",
    "beta_"
   ]
  },
  {
   "cell_type": "markdown",
   "metadata": {},
   "source": [
    "The model $f$:"
   ]
  },
  {
   "cell_type": "code",
   "execution_count": 5,
   "metadata": {
    "execution": {
     "iopub.execute_input": "2020-11-27T14:28:42.704226Z",
     "iopub.status.busy": "2020-11-27T14:28:42.702113Z",
     "iopub.status.idle": "2020-11-27T14:28:42.709321Z",
     "shell.execute_reply": "2020-11-27T14:28:42.707854Z"
    }
   },
   "outputs": [
    {
     "data": {
      "text/plain": [
       "array([0.49298877, 0.7694584 , 0.61502668, 0.64225725, 0.76275515])"
      ]
     },
     "execution_count": 1,
     "metadata": {},
     "output_type": "execute_result"
    }
   ],
   "source": [
    "def f(X, beta):\n",
    "    return X @ beta\n",
    "\n",
    "f(X, beta_)"
   ]
  },
  {
   "cell_type": "markdown",
   "metadata": {},
   "source": [
    "## LinReg with PyTorch"
   ]
  },
  {
   "cell_type": "code",
   "execution_count": 6,
   "metadata": {
    "execution": {
     "iopub.execute_input": "2020-11-27T14:28:42.717538Z",
     "iopub.status.busy": "2020-11-27T14:28:42.716640Z",
     "iopub.status.idle": "2020-11-27T14:28:43.096437Z",
     "shell.execute_reply": "2020-11-27T14:28:43.095851Z"
    }
   },
   "outputs": [],
   "source": [
    "import torch"
   ]
  },
  {
   "cell_type": "code",
   "execution_count": 7,
   "metadata": {
    "execution": {
     "iopub.execute_input": "2020-11-27T14:28:43.100864Z",
     "iopub.status.busy": "2020-11-27T14:28:43.100401Z",
     "iopub.status.idle": "2020-11-27T14:28:43.103067Z",
     "shell.execute_reply": "2020-11-27T14:28:43.103479Z"
    }
   },
   "outputs": [
    {
     "data": {
      "text/plain": [
       "(torch.Size([5, 3]), torch.Size([5]))"
      ]
     },
     "execution_count": 1,
     "metadata": {},
     "output_type": "execute_result"
    }
   ],
   "source": [
    "# X = torch.rand((5, 3))\n",
    "# y = torch.rand(5)\n",
    "X = torch.from_numpy(X)\n",
    "y = torch.from_numpy(y)\n",
    "X.shape, y.shape"
   ]
  },
  {
   "cell_type": "markdown",
   "metadata": {},
   "source": [
    "$\\hat\\beta = (X^T X)^{-1} X^T y$"
   ]
  },
  {
   "cell_type": "code",
   "execution_count": 8,
   "metadata": {
    "execution": {
     "iopub.execute_input": "2020-11-27T14:28:43.106694Z",
     "iopub.status.busy": "2020-11-27T14:28:43.106289Z",
     "iopub.status.idle": "2020-11-27T14:28:43.109526Z",
     "shell.execute_reply": "2020-11-27T14:28:43.109841Z"
    }
   },
   "outputs": [
    {
     "data": {
      "text/plain": [
       "tensor([0.2882, 0.2393, 1.0458], dtype=torch.float64)"
      ]
     },
     "execution_count": 1,
     "metadata": {},
     "output_type": "execute_result"
    }
   ],
   "source": [
    "XT = X.t()\n",
    "\n",
    "beta__ = (XT @ X).inverse() @ XT @ y\n",
    "beta__"
   ]
  },
  {
   "cell_type": "code",
   "execution_count": 9,
   "metadata": {
    "execution": {
     "iopub.execute_input": "2020-11-27T14:28:43.112742Z",
     "iopub.status.busy": "2020-11-27T14:28:43.112319Z",
     "iopub.status.idle": "2020-11-27T14:28:43.114851Z",
     "shell.execute_reply": "2020-11-27T14:28:43.114479Z"
    }
   },
   "outputs": [
    {
     "data": {
      "text/plain": [
       "array([0.00000000e+00, 7.77156117e-16, 0.00000000e+00])"
      ]
     },
     "execution_count": 1,
     "metadata": {},
     "output_type": "execute_result"
    }
   ],
   "source": [
    "beta__.numpy() - beta_"
   ]
  },
  {
   "cell_type": "markdown",
   "metadata": {},
   "source": [
    "## LinReg with PyTorch and Gradent Descent\n",
    "\n",
    "Previously, we had to do some math to calculate the optimal $\\hat\\beta$.\n",
    "PyTorch calculates the gradients for us automatically (more on that later)\n",
    "and we can use some version of gradient desctent to find our $\\hat\\beta$."
   ]
  },
  {
   "cell_type": "code",
   "execution_count": 10,
   "metadata": {
    "execution": {
     "iopub.execute_input": "2020-11-27T14:28:43.119149Z",
     "iopub.status.busy": "2020-11-27T14:28:43.118056Z",
     "iopub.status.idle": "2020-11-27T14:28:43.829799Z",
     "shell.execute_reply": "2020-11-27T14:28:43.828138Z"
    }
   },
   "outputs": [
    {
     "data": {
      "text/plain": [
       "[<matplotlib.lines.Line2D at 0x7f55621c2850>]"
      ]
     },
     "execution_count": 1,
     "metadata": {},
     "output_type": "execute_result"
    },
    {
     "data": {
      "image/png": "[encoded data removed]",
      "text/plain": [
       "<Figure size 432x288 with 1 Axes>"
      ]
     },
     "metadata": {
      "needs_background": "light"
     },
     "output_type": "display_data"
    }
   ],
   "source": [
    "from sklearn.datasets import make_regression\n",
    "\n",
    "n_features = 1\n",
    "n_samples = 100\n",
    "\n",
    "X, y = make_regression(\n",
    "    n_samples=n_samples,\n",
    "    n_features=n_features,\n",
    "    noise=10,\n",
    ")\n",
    "\n",
    "dom_np = np.linspace(X.min(), X.max(), 20)\n",
    "dom = torch.from_numpy(dom_np).unsqueeze(-1).float()\n",
    "\n",
    "fix, ax = plt.subplots()\n",
    "ax.plot(X, y, \".\")"
   ]
  },
  {
   "cell_type": "code",
   "execution_count": 11,
   "metadata": {
    "execution": {
     "iopub.execute_input": "2020-11-27T14:28:43.840312Z",
     "iopub.status.busy": "2020-11-27T14:28:43.838691Z",
     "iopub.status.idle": "2020-11-27T14:28:43.846247Z",
     "shell.execute_reply": "2020-11-27T14:28:43.847162Z"
    }
   },
   "outputs": [
    {
     "data": {
      "text/plain": [
       "(torch.Size([100, 1]), torch.Size([100, 1]))"
      ]
     },
     "execution_count": 1,
     "metadata": {},
     "output_type": "execute_result"
    }
   ],
   "source": [
    "X = torch.from_numpy(X).float()\n",
    "y = torch.from_numpy(y).float().unsqueeze(-1)\n",
    "X.shape, y.shape"
   ]
  },
  {
   "cell_type": "code",
   "execution_count": 12,
   "metadata": {
    "execution": {
     "iopub.execute_input": "2020-11-27T14:28:43.855207Z",
     "iopub.status.busy": "2020-11-27T14:28:43.854519Z",
     "iopub.status.idle": "2020-11-27T14:28:43.857616Z",
     "shell.execute_reply": "2020-11-27T14:28:43.856949Z"
    }
   },
   "outputs": [],
   "source": [
    "from torch import nn\n",
    "\n",
    "class LinReg(nn.Module):\n",
    "    def __init__(self, input_dim):\n",
    "        super().__init__()\n",
    "        self.beta = nn.Linear(input_dim, 1)\n",
    "        \n",
    "    def forward(self, X):\n",
    "        return self.beta(X)\n",
    "\n",
    "\n",
    "model = LinReg(n_features)"
   ]
  },
  {
   "cell_type": "code",
   "execution_count": 13,
   "metadata": {
    "execution": {
     "iopub.execute_input": "2020-11-27T14:28:43.861292Z",
     "iopub.status.busy": "2020-11-27T14:28:43.860751Z",
     "iopub.status.idle": "2020-11-27T14:28:43.863324Z",
     "shell.execute_reply": "2020-11-27T14:28:43.862801Z"
    }
   },
   "outputs": [],
   "source": [
    "loss_fn = nn.MSELoss()"
   ]
  },
  {
   "cell_type": "code",
   "execution_count": 14,
   "metadata": {
    "execution": {
     "iopub.execute_input": "2020-11-27T14:28:43.866624Z",
     "iopub.status.busy": "2020-11-27T14:28:43.866164Z",
     "iopub.status.idle": "2020-11-27T14:28:43.868168Z",
     "shell.execute_reply": "2020-11-27T14:28:43.868497Z"
    }
   },
   "outputs": [],
   "source": [
    "from torch import optim\n",
    "\n",
    "optimizer = optim.SGD(model.parameters(), lr=0.01)"
   ]
  },
  {
   "cell_type": "code",
   "execution_count": 15,
   "metadata": {
    "execution": {
     "iopub.execute_input": "2020-11-27T14:28:43.873044Z",
     "iopub.status.busy": "2020-11-27T14:28:43.872623Z",
     "iopub.status.idle": "2020-11-27T14:28:44.063570Z",
     "shell.execute_reply": "2020-11-27T14:28:44.063289Z"
    }
   },
   "outputs": [
    {
     "data": {
      "text/plain": [
       "<matplotlib.legend.Legend at 0x7f552ee95280>"
      ]
     },
     "execution_count": 1,
     "metadata": {},
     "output_type": "execute_result"
    },
    {
     "data": {
      "image/png": "[encoded data removed]",
      "text/plain": [
       "<Figure size 432x288 with 1 Axes>"
      ]
     },
     "metadata": {
      "needs_background": "light"
     },
     "output_type": "display_data"
    }
   ],
   "source": [
    "# Train step\n",
    "model.train()\n",
    "optimizer.zero_grad()\n",
    "\n",
    "y_ = model(X)\n",
    "\n",
    "loss = loss_fn(y_, y)\n",
    "loss.backward()\n",
    "optimizer.step()\n",
    "\n",
    "# Eval\n",
    "model.eval()\n",
    "with torch.no_grad():\n",
    "    y_ = model(dom)\n",
    "    \n",
    "\n",
    "# Vis\n",
    "fig, ax = plt.subplots()\n",
    "ax.plot(X.numpy(), y.numpy(), \".\", label=\"data\")\n",
    "ax.plot(dom_np, y_.numpy(), \"-\", label=\"pred\")\n",
    "ax.set_title(f\"MSE: {loss.item():0.1f}\")\n",
    "ax.legend();"
   ]
  },
  {
   "cell_type": "code",
   "execution_count": 16,
   "metadata": {
    "execution": {
     "iopub.execute_input": "2020-11-27T14:28:44.067784Z",
     "iopub.status.busy": "2020-11-27T14:28:44.066067Z",
     "iopub.status.idle": "2020-11-27T14:28:44.074186Z",
     "shell.execute_reply": "2020-11-27T14:28:44.072546Z"
    }
   },
   "outputs": [
    {
     "data": {
      "text/plain": [
       "Linear(in_features=1, out_features=1, bias=True)"
      ]
     },
     "execution_count": 1,
     "metadata": {},
     "output_type": "execute_result"
    }
   ],
   "source": [
    "model.beta"
   ]
  },
  {
   "cell_type": "code",
   "execution_count": 17,
   "metadata": {
    "execution": {
     "iopub.execute_input": "2020-11-27T14:28:44.081503Z",
     "iopub.status.busy": "2020-11-27T14:28:44.080689Z",
     "iopub.status.idle": "2020-11-27T14:28:44.085703Z",
     "shell.execute_reply": "2020-11-27T14:28:44.085038Z"
    }
   },
   "outputs": [
    {
     "data": {
      "text/plain": [
       "Parameter containing:\n",
       "tensor([[1.4642]], requires_grad=True)"
      ]
     },
     "execution_count": 1,
     "metadata": {},
     "output_type": "execute_result"
    }
   ],
   "source": [
    "model.beta.weight"
   ]
  },
  {
   "cell_type": "code",
   "execution_count": 18,
   "metadata": {
    "execution": {
     "iopub.execute_input": "2020-11-27T14:28:44.089783Z",
     "iopub.status.busy": "2020-11-27T14:28:44.089217Z",
     "iopub.status.idle": "2020-11-27T14:28:44.093144Z",
     "shell.execute_reply": "2020-11-27T14:28:44.092704Z"
    }
   },
   "outputs": [
    {
     "data": {
      "text/plain": [
       "tensor([[1.4642]])"
      ]
     },
     "execution_count": 1,
     "metadata": {},
     "output_type": "execute_result"
    }
   ],
   "source": [
    "model.beta.weight.data"
   ]
  },
  {
   "cell_type": "code",
   "execution_count": 19,
   "metadata": {
    "execution": {
     "iopub.execute_input": "2020-11-27T14:28:44.096175Z",
     "iopub.status.busy": "2020-11-27T14:28:44.095710Z",
     "iopub.status.idle": "2020-11-27T14:28:44.099026Z",
     "shell.execute_reply": "2020-11-27T14:28:44.098603Z"
    }
   },
   "outputs": [
    {
     "data": {
      "text/plain": [
       "Parameter containing:\n",
       "tensor([-0.9204], requires_grad=True)"
      ]
     },
     "execution_count": 1,
     "metadata": {},
     "output_type": "execute_result"
    }
   ],
   "source": [
    "model.beta.bias"
   ]
  },
  {
   "cell_type": "markdown",
   "metadata": {},
   "source": [
    "## LinReg with GPU\n",
    "\n",
    "Simply move the data and the model to the GPU."
   ]
  },
  {
   "cell_type": "code",
   "execution_count": 20,
   "metadata": {
    "execution": {
     "iopub.execute_input": "2020-11-27T14:28:44.103446Z",
     "iopub.status.busy": "2020-11-27T14:28:44.103083Z",
     "iopub.status.idle": "2020-11-27T14:28:47.487971Z",
     "shell.execute_reply": "2020-11-27T14:28:47.489228Z"
    }
   },
   "outputs": [],
   "source": [
    "device = torch.device(\"cuda:0\" if torch.cuda.is_available() else \"cpu\")\n",
    "\n",
    "model = LinReg(n_features).to(device)  # <-- here\n",
    "optimizer = optim.SGD(model.parameters(), lr=0.0001)\n",
    "criterion = nn.MSELoss()\n",
    "\n",
    "X, y = X.to(device), y.to(device)  # <-- here\n",
    "dom = dom.to(device)"
   ]
  },
  {
   "cell_type": "markdown",
   "metadata": {},
   "source": [
    "The rest stays the same."
   ]
  },
  {
   "cell_type": "code",
   "execution_count": 21,
   "metadata": {
    "execution": {
     "iopub.execute_input": "2020-11-27T14:28:47.505768Z",
     "iopub.status.busy": "2020-11-27T14:28:47.504595Z",
     "iopub.status.idle": "2020-11-27T14:28:47.677900Z",
     "shell.execute_reply": "2020-11-27T14:28:47.676478Z"
    }
   },
   "outputs": [
    {
     "data": {
      "text/plain": [
       "<matplotlib.legend.Legend at 0x7f55268280d0>"
      ]
     },
     "execution_count": 1,
     "metadata": {},
     "output_type": "execute_result"
    },
    {
     "data": {
      "image/png": "[encoded data removed]",
      "text/plain": [
       "<Figure size 432x288 with 1 Axes>"
      ]
     },
     "metadata": {
      "needs_background": "light"
     },
     "output_type": "display_data"
    }
   ],
   "source": [
    "# Train step\n",
    "model.train()\n",
    "optimizer.zero_grad()\n",
    "\n",
    "y_ = model(X)\n",
    "\n",
    "loss = loss_fn(y_, y)\n",
    "loss.backward()\n",
    "optimizer.step()\n",
    "\n",
    "# Eval\n",
    "model.eval()\n",
    "with torch.no_grad():\n",
    "    y_ = model(dom)\n",
    "    \n",
    "\n",
    "# Vis\n",
    "fig, ax = plt.subplots()\n",
    "ax.plot(X.cpu().numpy(), y.cpu().numpy(), \".\", label=\"data\")\n",
    "ax.plot(dom_np, y_.cpu().numpy(), \"-\", label=\"pred\")\n",
    "ax.set_title(f\"MSE: {loss.cpu().item():0.1f}\")\n",
    "ax.legend();"
   ]
  }
 ],
 "metadata": {
  "kernelspec": {
   "display_name": "Python 3",
   "language": "python",
   "name": "python3"
  },
  "language_info": {
   "codemirror_mode": {
    "name": "ipython",
    "version": 3
   },
   "file_extension": ".py",
   "mimetype": "text/x-python",
   "name": "python",
   "nbconvert_exporter": "python",
   "pygments_lexer": "ipython3",
   "version": "3.8.5"
  }
 },
 "nbformat": 4,
 "nbformat_minor": 4
}
