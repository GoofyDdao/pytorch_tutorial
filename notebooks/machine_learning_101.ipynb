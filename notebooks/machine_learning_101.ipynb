{
 "cells": [
  {
   "cell_type": "markdown",
   "metadata": {},
   "source": [
    "# ML 101 Recap\n",
    "\n",
    "**ML = model + loss + optimizer**\n",
    "\n",
    "\n",
    "## Linear regression example\n",
    "\n",
    "0. Data\n",
    "\n",
    "1. Model:\n",
    "  - $f(X) = X \\beta = \\hat y$\n",
    "\n",
    "2. Loss / criterion:\n",
    "  - $ err_i = y_i - f(X_i)$\n",
    "  - $MSE = \\frac{1}{n} \\sum_{i=1}^{N} err_i^2$\n",
    "  \n",
    "3. Optimize:\n",
    "  - minimize the MSE yields the optimal $\\hat\\beta$ (after doing some math)\n",
    "  - $\\hat\\beta = (X^TX)^{-1}X^Ty$\n",
    "  - (or, more generally, use gradient descent to optimize the parameters)"
   ]
  },
  {
   "cell_type": "code",
   "execution_count": 1,
   "metadata": {
    "execution": {
     "iopub.execute_input": "2020-12-06T08:34:56.351264Z",
     "iopub.status.busy": "2020-12-06T08:34:56.350499Z",
     "iopub.status.idle": "2020-12-06T08:34:56.590489Z",
     "shell.execute_reply": "2020-12-06T08:34:56.590740Z"
    }
   },
   "outputs": [],
   "source": [
    "import numpy as np\n",
    "from numpy.linalg import inv\n",
    "from numpy.linalg import multi_dot as mdot\n",
    "\n",
    "import matplotlib.pyplot as plt\n",
    "\n",
    "%matplotlib inline"
   ]
  },
  {
   "cell_type": "markdown",
   "metadata": {},
   "source": [
    "## LinReg with numpy"
   ]
  },
  {
   "cell_type": "code",
   "execution_count": 2,
   "metadata": {
    "execution": {
     "iopub.execute_input": "2020-12-06T08:34:56.594269Z",
     "iopub.status.busy": "2020-12-06T08:34:56.593879Z",
     "iopub.status.idle": "2020-12-06T08:34:56.595840Z",
     "shell.execute_reply": "2020-12-06T08:34:56.596081Z"
    }
   },
   "outputs": [
    {
     "data": {
      "text/plain": [
       "((5, 3), (5,))"
      ]
     },
     "execution_count": 1,
     "metadata": {},
     "output_type": "execute_result"
    }
   ],
   "source": [
    "X = np.random.random((5, 3))\n",
    "y = np.random.random(5)\n",
    "X.shape, y.shape"
   ]
  },
  {
   "cell_type": "markdown",
   "metadata": {},
   "source": [
    "Calculate the optimal parameter:\n",
    "$\\hat\\beta = (X^T X)^{-1} X^T y$"
   ]
  },
  {
   "cell_type": "code",
   "execution_count": 3,
   "metadata": {
    "execution": {
     "iopub.execute_input": "2020-12-06T08:34:56.662612Z",
     "iopub.status.busy": "2020-12-06T08:34:56.661810Z",
     "iopub.status.idle": "2020-12-06T08:34:56.666878Z",
     "shell.execute_reply": "2020-12-06T08:34:56.667550Z"
    }
   },
   "outputs": [
    {
     "data": {
      "text/plain": [
       "array([-0.16457328,  0.23499231,  0.29130332])"
      ]
     },
     "execution_count": 1,
     "metadata": {},
     "output_type": "execute_result"
    }
   ],
   "source": [
    "XT = X.T  # transpose\n",
    "\n",
    "beta_ = mdot([inv(XT @ X), XT, y])\n",
    "beta_"
   ]
  },
  {
   "cell_type": "code",
   "execution_count": 4,
   "metadata": {
    "execution": {
     "iopub.execute_input": "2020-12-06T08:34:56.679410Z",
     "iopub.status.busy": "2020-12-06T08:34:56.678262Z",
     "iopub.status.idle": "2020-12-06T08:34:56.685414Z",
     "shell.execute_reply": "2020-12-06T08:34:56.684600Z"
    }
   },
   "outputs": [
    {
     "data": {
      "text/plain": [
       "array([-0.16457328,  0.23499231,  0.29130332])"
      ]
     },
     "execution_count": 1,
     "metadata": {},
     "output_type": "execute_result"
    }
   ],
   "source": [
    "XT = X.T  # transpose\n",
    "\n",
    "beta_ = inv(XT @ X) @ XT @ y\n",
    "beta_"
   ]
  },
  {
   "cell_type": "markdown",
   "metadata": {},
   "source": [
    "The model $f$:"
   ]
  },
  {
   "cell_type": "code",
   "execution_count": 5,
   "metadata": {
    "execution": {
     "iopub.execute_input": "2020-12-06T08:34:56.696138Z",
     "iopub.status.busy": "2020-12-06T08:34:56.695426Z",
     "iopub.status.idle": "2020-12-06T08:34:56.700641Z",
     "shell.execute_reply": "2020-12-06T08:34:56.700056Z"
    }
   },
   "outputs": [
    {
     "data": {
      "text/plain": [
       "array([0.14339024, 0.02630304, 0.28800272, 0.31714272, 0.29749248])"
      ]
     },
     "execution_count": 1,
     "metadata": {},
     "output_type": "execute_result"
    }
   ],
   "source": [
    "def f(X, beta):\n",
    "    return X @ beta\n",
    "\n",
    "f(X, beta_)"
   ]
  },
  {
   "cell_type": "markdown",
   "metadata": {},
   "source": [
    "## LinReg with PyTorch"
   ]
  },
  {
   "cell_type": "code",
   "execution_count": 6,
   "metadata": {
    "execution": {
     "iopub.execute_input": "2020-12-06T08:34:56.706095Z",
     "iopub.status.busy": "2020-12-06T08:34:56.705591Z",
     "iopub.status.idle": "2020-12-06T08:34:56.968660Z",
     "shell.execute_reply": "2020-12-06T08:34:56.967749Z"
    }
   },
   "outputs": [],
   "source": [
    "import torch"
   ]
  },
  {
   "cell_type": "code",
   "execution_count": 7,
   "metadata": {
    "execution": {
     "iopub.execute_input": "2020-12-06T08:34:56.975328Z",
     "iopub.status.busy": "2020-12-06T08:34:56.974574Z",
     "iopub.status.idle": "2020-12-06T08:34:56.978642Z",
     "shell.execute_reply": "2020-12-06T08:34:56.978022Z"
    }
   },
   "outputs": [
    {
     "data": {
      "text/plain": [
       "(torch.Size([5, 3]), torch.Size([5]))"
      ]
     },
     "execution_count": 1,
     "metadata": {},
     "output_type": "execute_result"
    }
   ],
   "source": [
    "# X = torch.rand((5, 3))\n",
    "# y = torch.rand(5)\n",
    "X = torch.from_numpy(X)\n",
    "y = torch.from_numpy(y)\n",
    "X.shape, y.shape"
   ]
  },
  {
   "cell_type": "markdown",
   "metadata": {},
   "source": [
    "$\\hat\\beta = (X^T X)^{-1} X^T y$"
   ]
  },
  {
   "cell_type": "code",
   "execution_count": 8,
   "metadata": {
    "execution": {
     "iopub.execute_input": "2020-12-06T08:34:56.982496Z",
     "iopub.status.busy": "2020-12-06T08:34:56.981885Z",
     "iopub.status.idle": "2020-12-06T08:34:56.993637Z",
     "shell.execute_reply": "2020-12-06T08:34:56.993183Z"
    }
   },
   "outputs": [
    {
     "data": {
      "text/plain": [
       "tensor([-0.1646,  0.2350,  0.2913], dtype=torch.float64)"
      ]
     },
     "execution_count": 1,
     "metadata": {},
     "output_type": "execute_result"
    }
   ],
   "source": [
    "XT = X.t()\n",
    "\n",
    "beta__ = (XT @ X).inverse() @ XT @ y\n",
    "beta__"
   ]
  },
  {
   "cell_type": "code",
   "execution_count": 9,
   "metadata": {
    "execution": {
     "iopub.execute_input": "2020-12-06T08:34:56.996783Z",
     "iopub.status.busy": "2020-12-06T08:34:56.996346Z",
     "iopub.status.idle": "2020-12-06T08:34:56.999045Z",
     "shell.execute_reply": "2020-12-06T08:34:56.998677Z"
    }
   },
   "outputs": [
    {
     "data": {
      "text/plain": [
       "array([1.11022302e-16, 0.00000000e+00, 1.66533454e-16])"
      ]
     },
     "execution_count": 1,
     "metadata": {},
     "output_type": "execute_result"
    }
   ],
   "source": [
    "beta__.numpy() - beta_"
   ]
  },
  {
   "cell_type": "markdown",
   "metadata": {},
   "source": [
    "## LinReg with PyTorch and Gradent Descent\n",
    "\n",
    "Previously, we had to do some math to calculate the optimal $\\hat\\beta$.\n",
    "PyTorch calculates the gradients for us automatically (more on that later)\n",
    "and we can use some version of gradient desctent to find our $\\hat\\beta$."
   ]
  },
  {
   "cell_type": "code",
   "execution_count": 10,
   "metadata": {
    "execution": {
     "iopub.execute_input": "2020-12-06T08:34:57.003092Z",
     "iopub.status.busy": "2020-12-06T08:34:57.002657Z",
     "iopub.status.idle": "2020-12-06T08:34:57.389830Z",
     "shell.execute_reply": "2020-12-06T08:34:57.389554Z"
    }
   },
   "outputs": [
    {
     "data": {
      "text/plain": [
       "[<matplotlib.lines.Line2D at 0x7f291e8a3670>]"
      ]
     },
     "execution_count": 1,
     "metadata": {},
     "output_type": "execute_result"
    },
    {
     "data": {
      "image/png": "[encoded data removed]",
      "text/plain": [
       "<Figure size 432x288 with 1 Axes>"
      ]
     },
     "metadata": {
      "needs_background": "light"
     },
     "output_type": "display_data"
    }
   ],
   "source": [
    "from sklearn.datasets import make_regression\n",
    "\n",
    "n_features = 1\n",
    "n_samples = 100\n",
    "\n",
    "X, y = make_regression(\n",
    "    n_samples=n_samples,\n",
    "    n_features=n_features,\n",
    "    noise=10,\n",
    ")\n",
    "\n",
    "dom_np = np.linspace(X.min(), X.max(), 20)\n",
    "dom = torch.from_numpy(dom_np).unsqueeze(-1).float()\n",
    "\n",
    "fix, ax = plt.subplots()\n",
    "ax.plot(X, y, \".\")"
   ]
  },
  {
   "cell_type": "code",
   "execution_count": 11,
   "metadata": {
    "execution": {
     "iopub.execute_input": "2020-12-06T08:34:57.392696Z",
     "iopub.status.busy": "2020-12-06T08:34:57.392259Z",
     "iopub.status.idle": "2020-12-06T08:34:57.394260Z",
     "shell.execute_reply": "2020-12-06T08:34:57.394503Z"
    }
   },
   "outputs": [
    {
     "data": {
      "text/plain": [
       "(torch.Size([100, 1]), torch.Size([100, 1]))"
      ]
     },
     "execution_count": 1,
     "metadata": {},
     "output_type": "execute_result"
    }
   ],
   "source": [
    "X = torch.from_numpy(X).float()\n",
    "y = torch.from_numpy(y).float().unsqueeze(-1)\n",
    "X.shape, y.shape"
   ]
  },
  {
   "cell_type": "code",
   "execution_count": 12,
   "metadata": {
    "execution": {
     "iopub.execute_input": "2020-12-06T08:34:57.397446Z",
     "iopub.status.busy": "2020-12-06T08:34:57.397130Z",
     "iopub.status.idle": "2020-12-06T08:34:57.398734Z",
     "shell.execute_reply": "2020-12-06T08:34:57.398418Z"
    }
   },
   "outputs": [],
   "source": [
    "from torch import nn\n",
    "\n",
    "class LinReg(nn.Module):\n",
    "    def __init__(self, input_dim):\n",
    "        super().__init__()\n",
    "        self.beta = nn.Linear(input_dim, 1)\n",
    "        \n",
    "    def forward(self, X):\n",
    "        return self.beta(X)\n",
    "\n",
    "\n",
    "model = LinReg(n_features)"
   ]
  },
  {
   "cell_type": "code",
   "execution_count": 13,
   "metadata": {
    "execution": {
     "iopub.execute_input": "2020-12-06T08:34:57.400606Z",
     "iopub.status.busy": "2020-12-06T08:34:57.400305Z",
     "iopub.status.idle": "2020-12-06T08:34:57.402040Z",
     "shell.execute_reply": "2020-12-06T08:34:57.401684Z"
    }
   },
   "outputs": [],
   "source": [
    "loss_fn = nn.MSELoss()"
   ]
  },
  {
   "cell_type": "code",
   "execution_count": 14,
   "metadata": {
    "execution": {
     "iopub.execute_input": "2020-12-06T08:34:57.404070Z",
     "iopub.status.busy": "2020-12-06T08:34:57.403776Z",
     "iopub.status.idle": "2020-12-06T08:34:57.405423Z",
     "shell.execute_reply": "2020-12-06T08:34:57.405111Z"
    }
   },
   "outputs": [],
   "source": [
    "from torch import optim\n",
    "\n",
    "optimizer = optim.SGD(model.parameters(), lr=0.01)"
   ]
  },
  {
   "cell_type": "code",
   "execution_count": 15,
   "metadata": {
    "execution": {
     "iopub.execute_input": "2020-12-06T08:34:57.408350Z",
     "iopub.status.busy": "2020-12-06T08:34:57.408033Z",
     "iopub.status.idle": "2020-12-06T08:34:57.507501Z",
     "shell.execute_reply": "2020-12-06T08:34:57.507175Z"
    }
   },
   "outputs": [
    {
     "name": "stderr",
     "output_type": "stream",
     "text": [
      "/home/stefan/projects/pytorch_tutorial/.venv/lib/python3.8/site-packages/torch/autograd/__init__.py:130: UserWarning: CUDA initialization: Found no NVIDIA driver on your system. Please check that you have an NVIDIA GPU and installed a driver from http://www.nvidia.com/Download/index.aspx (Triggered internally at  /pytorch/c10/cuda/CUDAFunctions.cpp:100.)\n",
      "  Variable._execution_engine.run_backward(\n"
     ]
    },
    {
     "data": {
      "text/plain": [
       "<matplotlib.legend.Legend at 0x7f291e816040>"
      ]
     },
     "execution_count": 1,
     "metadata": {},
     "output_type": "execute_result"
    },
    {
     "data": {
      "image/png": "[encoded data removed]",
      "text/plain": [
       "<Figure size 432x288 with 1 Axes>"
      ]
     },
     "metadata": {
      "needs_background": "light"
     },
     "output_type": "display_data"
    }
   ],
   "source": [
    "# Train step\n",
    "model.train()\n",
    "optimizer.zero_grad()\n",
    "\n",
    "y_ = model(X)\n",
    "\n",
    "loss = loss_fn(y_, y)\n",
    "loss.backward()\n",
    "optimizer.step()\n",
    "\n",
    "# Eval\n",
    "model.eval()\n",
    "with torch.no_grad():\n",
    "    y_ = model(dom)\n",
    "    \n",
    "\n",
    "# Vis\n",
    "fig, ax = plt.subplots()\n",
    "ax.plot(X.numpy(), y.numpy(), \".\", label=\"data\")\n",
    "ax.plot(dom_np, y_.numpy(), \"-\", label=\"pred\")\n",
    "ax.set_title(f\"MSE: {loss.item():0.1f}\")\n",
    "ax.legend();"
   ]
  },
  {
   "cell_type": "code",
   "execution_count": 16,
   "metadata": {
    "execution": {
     "iopub.execute_input": "2020-12-06T08:34:57.509751Z",
     "iopub.status.busy": "2020-12-06T08:34:57.509392Z",
     "iopub.status.idle": "2020-12-06T08:34:57.511717Z",
     "shell.execute_reply": "2020-12-06T08:34:57.511407Z"
    }
   },
   "outputs": [
    {
     "data": {
      "text/plain": [
       "Linear(in_features=1, out_features=1, bias=True)"
      ]
     },
     "execution_count": 1,
     "metadata": {},
     "output_type": "execute_result"
    }
   ],
   "source": [
    "model.beta"
   ]
  },
  {
   "cell_type": "code",
   "execution_count": 17,
   "metadata": {
    "execution": {
     "iopub.execute_input": "2020-12-06T08:34:57.513739Z",
     "iopub.status.busy": "2020-12-06T08:34:57.513357Z",
     "iopub.status.idle": "2020-12-06T08:34:57.515836Z",
     "shell.execute_reply": "2020-12-06T08:34:57.515528Z"
    }
   },
   "outputs": [
    {
     "data": {
      "text/plain": [
       "Parameter containing:\n",
       "tensor([[0.0584]], requires_grad=True)"
      ]
     },
     "execution_count": 1,
     "metadata": {},
     "output_type": "execute_result"
    }
   ],
   "source": [
    "model.beta.weight"
   ]
  },
  {
   "cell_type": "code",
   "execution_count": 18,
   "metadata": {
    "execution": {
     "iopub.execute_input": "2020-12-06T08:34:57.517782Z",
     "iopub.status.busy": "2020-12-06T08:34:57.517413Z",
     "iopub.status.idle": "2020-12-06T08:34:57.519560Z",
     "shell.execute_reply": "2020-12-06T08:34:57.519817Z"
    }
   },
   "outputs": [
    {
     "data": {
      "text/plain": [
       "tensor([[0.0584]])"
      ]
     },
     "execution_count": 1,
     "metadata": {},
     "output_type": "execute_result"
    }
   ],
   "source": [
    "model.beta.weight.data"
   ]
  },
  {
   "cell_type": "code",
   "execution_count": 19,
   "metadata": {
    "execution": {
     "iopub.execute_input": "2020-12-06T08:34:57.521727Z",
     "iopub.status.busy": "2020-12-06T08:34:57.521342Z",
     "iopub.status.idle": "2020-12-06T08:34:57.523619Z",
     "shell.execute_reply": "2020-12-06T08:34:57.523858Z"
    }
   },
   "outputs": [
    {
     "data": {
      "text/plain": [
       "Parameter containing:\n",
       "tensor([-0.1806], requires_grad=True)"
      ]
     },
     "execution_count": 1,
     "metadata": {},
     "output_type": "execute_result"
    }
   ],
   "source": [
    "model.beta.bias"
   ]
  },
  {
   "cell_type": "markdown",
   "metadata": {},
   "source": [
    "## LinReg with GPU\n",
    "\n",
    "Simply move the data and the model to the GPU."
   ]
  },
  {
   "cell_type": "code",
   "execution_count": 20,
   "metadata": {
    "execution": {
     "iopub.execute_input": "2020-12-06T08:34:57.526673Z",
     "iopub.status.busy": "2020-12-06T08:34:57.526314Z",
     "iopub.status.idle": "2020-12-06T08:34:57.528290Z",
     "shell.execute_reply": "2020-12-06T08:34:57.528528Z"
    }
   },
   "outputs": [],
   "source": [
    "device = torch.device(\"cuda:0\" if torch.cuda.is_available() else \"cpu\")\n",
    "\n",
    "model = LinReg(n_features).to(device)  # <-- here\n",
    "optimizer = optim.SGD(model.parameters(), lr=0.0001)\n",
    "criterion = nn.MSELoss()\n",
    "\n",
    "X, y = X.to(device), y.to(device)  # <-- here\n",
    "dom = dom.to(device)"
   ]
  },
  {
   "cell_type": "markdown",
   "metadata": {},
   "source": [
    "The rest stays the same."
   ]
  },
  {
   "cell_type": "code",
   "execution_count": 21,
   "metadata": {
    "execution": {
     "iopub.execute_input": "2020-12-06T08:34:57.531682Z",
     "iopub.status.busy": "2020-12-06T08:34:57.531374Z",
     "iopub.status.idle": "2020-12-06T08:34:57.613428Z",
     "shell.execute_reply": "2020-12-06T08:34:57.613095Z"
    }
   },
   "outputs": [
    {
     "data": {
      "text/plain": [
       "<matplotlib.legend.Legend at 0x7f291df68ee0>"
      ]
     },
     "execution_count": 1,
     "metadata": {},
     "output_type": "execute_result"
    },
    {
     "data": {
      "image/png": "[encoded data removed]",
      "text/plain": [
       "<Figure size 432x288 with 1 Axes>"
      ]
     },
     "metadata": {
      "needs_background": "light"
     },
     "output_type": "display_data"
    }
   ],
   "source": [
    "# Train step\n",
    "model.train()\n",
    "optimizer.zero_grad()\n",
    "\n",
    "y_ = model(X)\n",
    "\n",
    "loss = loss_fn(y_, y)\n",
    "loss.backward()\n",
    "optimizer.step()\n",
    "\n",
    "# Eval\n",
    "model.eval()\n",
    "with torch.no_grad():\n",
    "    y_ = model(dom)\n",
    "    \n",
    "\n",
    "# Vis\n",
    "fig, ax = plt.subplots()\n",
    "ax.plot(X.cpu().numpy(), y.cpu().numpy(), \".\", label=\"data\")\n",
    "ax.plot(dom_np, y_.cpu().numpy(), \"-\", label=\"pred\")\n",
    "ax.set_title(f\"MSE: {loss.cpu().item():0.1f}\")\n",
    "ax.legend();"
   ]
  }
 ],
 "metadata": {
  "kernelspec": {
   "display_name": "Python 3",
   "language": "python",
   "name": "python3"
  },
  "language_info": {
   "codemirror_mode": {
    "name": "ipython",
    "version": 3
   },
   "file_extension": ".py",
   "mimetype": "text/x-python",
   "name": "python",
   "nbconvert_exporter": "python",
   "pygments_lexer": "ipython3",
   "version": "3.8.5"
  }
 },
 "nbformat": 4,
 "nbformat_minor": 4
}
