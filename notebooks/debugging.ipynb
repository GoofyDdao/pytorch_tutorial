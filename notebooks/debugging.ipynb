{
 "cells": [
  {
   "cell_type": "markdown",
   "metadata": {},
   "source": [
    "# Debugging"
   ]
  },
  {
   "cell_type": "code",
   "execution_count": 1,
   "metadata": {
    "execution": {
     "iopub.execute_input": "2020-12-06T08:34:45.891872Z",
     "iopub.status.busy": "2020-12-06T08:34:45.891378Z",
     "iopub.status.idle": "2020-12-06T08:34:47.209690Z",
     "shell.execute_reply": "2020-12-06T08:34:47.210008Z"
    }
   },
   "outputs": [
    {
     "name": "stderr",
     "output_type": "stream",
     "text": [
      "/home/stefan/projects/pytorch_tutorial/.venv/lib/python3.8/site-packages/torch/cuda/__init__.py:52: UserWarning: CUDA initialization: Found no NVIDIA driver on your system. Please check that you have an NVIDIA GPU and installed a driver from http://www.nvidia.com/Download/index.aspx (Triggered internally at  /pytorch/c10/cuda/CUDAFunctions.cpp:100.)\n",
      "  return torch._C._cuda_getDeviceCount() > 0\n"
     ]
    }
   ],
   "source": [
    "import torch\n",
    "import torch.nn as nn\n",
    "import torch.nn.functional as F\n",
    "import torch.optim as optim\n",
    "import torchvision\n",
    "\n",
    "DEVICE = torch.device(\"cuda:0\" if torch.cuda.is_available() else \"cpu\")"
   ]
  },
  {
   "cell_type": "markdown",
   "metadata": {},
   "source": [
    "**Q: \"No debugger for your code. What do you think?\"**\n",
    "\n",
    "**A: \"I would NOT be able to code!\"**\n",
    "\n",
    "- Who does \"print-line-debugging\"?\n",
    "- Who likes debugging in tensorflow?\n",
    "- What is the intersection of those two groups?\n",
    "\n",
    "\n",
    "## IPDB cheatsheet\n",
    "IPython Debugger\n",
    "\n",
    "Taken from http://wangchuan.github.io/coding/2017/07/12/ipdb-cheat-sheet.html\n",
    "\n",
    "- h(help): Print help\n",
    "\n",
    "- n(ext): Continue execution until the next line in the current function is reached or it returns.\n",
    "- s(tep): Execute the current line, stop at the first possible occasion (either in a function that is called or in the current function).\n",
    "- r(eturn): Continue execution until the current function returns.\n",
    "- c(ont(inue)): Continue execution, only stop when a breakpoint is encountered.\n",
    "\n",
    "- r(eturn): Continue execution until the current function returns.\n",
    "- a(rgs): Print the argument list of the current function."
   ]
  },
  {
   "cell_type": "markdown",
   "metadata": {},
   "source": [
    "Note: Python 3.7 has `breakpoint()` built-in! [[PEP 553]](https://www.python.org/dev/peps/pep-0553/)"
   ]
  },
  {
   "cell_type": "code",
   "execution_count": 2,
   "metadata": {
    "execution": {
     "iopub.execute_input": "2020-12-06T08:34:47.212530Z",
     "iopub.status.busy": "2020-12-06T08:34:47.212225Z",
     "iopub.status.idle": "2020-12-06T08:34:47.214085Z",
     "shell.execute_reply": "2020-12-06T08:34:47.213730Z"
    }
   },
   "outputs": [],
   "source": [
    "from IPython.core.debugger import set_trace"
   ]
  },
  {
   "cell_type": "code",
   "execution_count": 3,
   "metadata": {
    "execution": {
     "iopub.execute_input": "2020-12-06T08:34:47.219577Z",
     "iopub.status.busy": "2020-12-06T08:34:47.219206Z",
     "iopub.status.idle": "2020-12-06T08:34:47.221480Z",
     "shell.execute_reply": "2020-12-06T08:34:47.221160Z"
    }
   },
   "outputs": [
    {
     "data": {
      "text/plain": [
       "54"
      ]
     },
     "execution_count": 1,
     "metadata": {},
     "output_type": "execute_result"
    }
   ],
   "source": [
    "def my_function(x):\n",
    "    answer = 42\n",
    "    # set_trace()  # <-- uncomment!\n",
    "    answer += x\n",
    "    return answer\n",
    "\n",
    "my_function(12)"
   ]
  },
  {
   "cell_type": "markdown",
   "metadata": {},
   "source": [
    "## Example: debuging a NN"
   ]
  },
  {
   "cell_type": "code",
   "execution_count": 4,
   "metadata": {
    "execution": {
     "iopub.execute_input": "2020-12-06T08:34:47.223812Z",
     "iopub.status.busy": "2020-12-06T08:34:47.223510Z",
     "iopub.status.idle": "2020-12-06T08:34:47.253488Z",
     "shell.execute_reply": "2020-12-06T08:34:47.253136Z"
    }
   },
   "outputs": [
    {
     "data": {
      "text/plain": [
       "tensor([[0.4467, 0.0772, 0.7921],\n",
       "        [0.8916, 0.5952, 0.2477],\n",
       "        [0.9442, 0.3809, 0.3629],\n",
       "        [0.3867, 0.1336, 0.0256],\n",
       "        [0.1272, 0.6342, 0.3937]])"
      ]
     },
     "execution_count": 1,
     "metadata": {},
     "output_type": "execute_result"
    }
   ],
   "source": [
    "X = torch.rand((5, 3))\n",
    "X"
   ]
  },
  {
   "cell_type": "code",
   "execution_count": 5,
   "metadata": {
    "execution": {
     "iopub.execute_input": "2020-12-06T08:34:47.256914Z",
     "iopub.status.busy": "2020-12-06T08:34:47.256587Z",
     "iopub.status.idle": "2020-12-06T08:34:47.262137Z",
     "shell.execute_reply": "2020-12-06T08:34:47.261822Z"
    }
   },
   "outputs": [],
   "source": [
    "class MyModule(nn.Module):\n",
    "    def __init__(self):\n",
    "        super().__init__()\n",
    "        self.lin = nn.Linear(3, 1)\n",
    "    \n",
    "    def forward(self, X):\n",
    "        # set_trace()\n",
    "        x = self.lin(X)\n",
    "        return X\n",
    "\n",
    "    \n",
    "model = MyModule()\n",
    "y_ = model(X)\n",
    "\n",
    "# assert y_.shape == (5, 1), y_.shape"
   ]
  },
  {
   "cell_type": "markdown",
   "metadata": {},
   "source": [
    "## Debug Layer"
   ]
  },
  {
   "cell_type": "code",
   "execution_count": 6,
   "metadata": {
    "execution": {
     "iopub.execute_input": "2020-12-06T08:34:47.264564Z",
     "iopub.status.busy": "2020-12-06T08:34:47.264237Z",
     "iopub.status.idle": "2020-12-06T08:34:47.265995Z",
     "shell.execute_reply": "2020-12-06T08:34:47.265649Z"
    }
   },
   "outputs": [],
   "source": [
    "class DebugModule(nn.Module):\n",
    "    def forward(self, x):\n",
    "        set_trace()\n",
    "        return x"
   ]
  },
  {
   "cell_type": "code",
   "execution_count": 7,
   "metadata": {
    "execution": {
     "iopub.execute_input": "2020-12-06T08:34:47.268382Z",
     "iopub.status.busy": "2020-12-06T08:34:47.268055Z",
     "iopub.status.idle": "2020-12-06T08:34:47.269773Z",
     "shell.execute_reply": "2020-12-06T08:34:47.269424Z"
    }
   },
   "outputs": [],
   "source": [
    "model = nn.Sequential(\n",
    "    nn.Linear(1, 5),\n",
    "    DebugModule(),\n",
    "    nn.Linear(5, 1),\n",
    ")"
   ]
  },
  {
   "cell_type": "code",
   "execution_count": 8,
   "metadata": {
    "execution": {
     "iopub.execute_input": "2020-12-06T08:34:47.271824Z",
     "iopub.status.busy": "2020-12-06T08:34:47.271492Z",
     "iopub.status.idle": "2020-12-06T08:34:47.273920Z",
     "shell.execute_reply": "2020-12-06T08:34:47.273570Z"
    }
   },
   "outputs": [],
   "source": [
    "X = torch.unsqueeze(torch.tensor([1.]), dim=0)\n",
    "# model(X)"
   ]
  },
  {
   "cell_type": "markdown",
   "metadata": {},
   "source": [
    "## Tensorboard and `tensorboardX`\n",
    "Tensorboard and `tensorboardX` are also great to debug a model, e.g. to look at the gradients."
   ]
  }
 ],
 "metadata": {
  "kernelspec": {
   "display_name": "Python 3",
   "language": "python",
   "name": "python3"
  },
  "language_info": {
   "codemirror_mode": {
    "name": "ipython",
    "version": 3
   },
   "file_extension": ".py",
   "mimetype": "text/x-python",
   "name": "python",
   "nbconvert_exporter": "python",
   "pygments_lexer": "ipython3",
   "version": "3.8.5"
  }
 },
 "nbformat": 4,
 "nbformat_minor": 2
}
