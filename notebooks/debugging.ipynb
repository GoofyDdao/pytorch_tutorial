{
 "cells": [
  {
   "cell_type": "markdown",
   "metadata": {},
   "source": [
    "# Debugging"
   ]
  },
  {
   "cell_type": "code",
   "execution_count": 1,
   "metadata": {
    "execution": {
     "iopub.execute_input": "2020-11-27T14:28:26.069673Z",
     "iopub.status.busy": "2020-11-27T14:28:26.067887Z",
     "iopub.status.idle": "2020-11-27T14:28:26.668652Z",
     "shell.execute_reply": "2020-11-27T14:28:26.669005Z"
    }
   },
   "outputs": [],
   "source": [
    "import torch\n",
    "import torch.nn as nn\n",
    "import torch.nn.functional as F\n",
    "import torch.optim as optim\n",
    "import torchvision\n",
    "\n",
    "DEVICE = torch.device(\"cuda:0\" if torch.cuda.is_available() else \"cpu\")"
   ]
  },
  {
   "cell_type": "markdown",
   "metadata": {},
   "source": [
    "**Q: \"No debugger for your code. What do you think?\"**\n",
    "\n",
    "**A: \"I would NOT be able to code!\"**\n",
    "\n",
    "- Who does \"print-line-debugging\"?\n",
    "- Who likes debugging in tensorflow?\n",
    "- What is the intersection of those two groups?\n",
    "\n",
    "\n",
    "## IPDB cheatsheet\n",
    "IPython Debugger\n",
    "\n",
    "Taken from http://wangchuan.github.io/coding/2017/07/12/ipdb-cheat-sheet.html\n",
    "\n",
    "- h(help): Print help\n",
    "\n",
    "- n(ext): Continue execution until the next line in the current function is reached or it returns.\n",
    "- s(tep): Execute the current line, stop at the first possible occasion (either in a function that is called or in the current function).\n",
    "- r(eturn): Continue execution until the current function returns.\n",
    "- c(ont(inue)): Continue execution, only stop when a breakpoint is encountered.\n",
    "\n",
    "- r(eturn): Continue execution until the current function returns.\n",
    "- a(rgs): Print the argument list of the current function."
   ]
  },
  {
   "cell_type": "markdown",
   "metadata": {},
   "source": [
    "Note: Python 3.7 has `breakpoint()` built-in! [[PEP 553]](https://www.python.org/dev/peps/pep-0553/)"
   ]
  },
  {
   "cell_type": "code",
   "execution_count": 2,
   "metadata": {
    "execution": {
     "iopub.execute_input": "2020-11-27T14:28:26.671886Z",
     "iopub.status.busy": "2020-11-27T14:28:26.671528Z",
     "iopub.status.idle": "2020-11-27T14:28:26.673487Z",
     "shell.execute_reply": "2020-11-27T14:28:26.673190Z"
    }
   },
   "outputs": [],
   "source": [
    "from IPython.core.debugger import set_trace"
   ]
  },
  {
   "cell_type": "code",
   "execution_count": 3,
   "metadata": {
    "execution": {
     "iopub.execute_input": "2020-11-27T14:28:26.679614Z",
     "iopub.status.busy": "2020-11-27T14:28:26.679005Z",
     "iopub.status.idle": "2020-11-27T14:28:26.685651Z",
     "shell.execute_reply": "2020-11-27T14:28:26.683927Z"
    }
   },
   "outputs": [
    {
     "data": {
      "text/plain": [
       "54"
      ]
     },
     "execution_count": 1,
     "metadata": {},
     "output_type": "execute_result"
    }
   ],
   "source": [
    "def my_function(x):\n",
    "    answer = 42\n",
    "    # set_trace()  # <-- uncomment!\n",
    "    answer += x\n",
    "    return answer\n",
    "\n",
    "my_function(12)"
   ]
  },
  {
   "cell_type": "markdown",
   "metadata": {},
   "source": [
    "## Example: debuging a NN"
   ]
  },
  {
   "cell_type": "code",
   "execution_count": 4,
   "metadata": {
    "execution": {
     "iopub.execute_input": "2020-11-27T14:28:26.696087Z",
     "iopub.status.busy": "2020-11-27T14:28:26.695204Z",
     "iopub.status.idle": "2020-11-27T14:28:26.701490Z",
     "shell.execute_reply": "2020-11-27T14:28:26.700820Z"
    }
   },
   "outputs": [
    {
     "data": {
      "text/plain": [
       "tensor([[0.6176, 0.9115, 0.8280],\n",
       "        [0.2433, 0.4625, 0.9607],\n",
       "        [0.5053, 0.2515, 0.7319],\n",
       "        [0.4868, 0.0731, 0.5552],\n",
       "        [0.7020, 0.6784, 0.4752]])"
      ]
     },
     "execution_count": 1,
     "metadata": {},
     "output_type": "execute_result"
    }
   ],
   "source": [
    "X = torch.rand((5, 3))\n",
    "X"
   ]
  },
  {
   "cell_type": "code",
   "execution_count": 5,
   "metadata": {
    "execution": {
     "iopub.execute_input": "2020-11-27T14:28:26.707304Z",
     "iopub.status.busy": "2020-11-27T14:28:26.706732Z",
     "iopub.status.idle": "2020-11-27T14:28:26.709153Z",
     "shell.execute_reply": "2020-11-27T14:28:26.709575Z"
    }
   },
   "outputs": [],
   "source": [
    "class MyModule(nn.Module):\n",
    "    def __init__(self):\n",
    "        super().__init__()\n",
    "        self.lin = nn.Linear(3, 1)\n",
    "    \n",
    "    def forward(self, X):\n",
    "        # set_trace()\n",
    "        x = self.lin(X)\n",
    "        return X\n",
    "\n",
    "    \n",
    "model = MyModule()\n",
    "y_ = model(X)\n",
    "\n",
    "# assert y_.shape == (5, 1), y_.shape"
   ]
  },
  {
   "cell_type": "markdown",
   "metadata": {},
   "source": [
    "## Debug Layer"
   ]
  },
  {
   "cell_type": "code",
   "execution_count": 6,
   "metadata": {
    "execution": {
     "iopub.execute_input": "2020-11-27T14:28:26.713223Z",
     "iopub.status.busy": "2020-11-27T14:28:26.712761Z",
     "iopub.status.idle": "2020-11-27T14:28:26.715051Z",
     "shell.execute_reply": "2020-11-27T14:28:26.714524Z"
    }
   },
   "outputs": [],
   "source": [
    "class DebugModule(nn.Module):\n",
    "    def forward(self, x):\n",
    "        set_trace()\n",
    "        return x"
   ]
  },
  {
   "cell_type": "code",
   "execution_count": 7,
   "metadata": {
    "execution": {
     "iopub.execute_input": "2020-11-27T14:28:26.718300Z",
     "iopub.status.busy": "2020-11-27T14:28:26.717899Z",
     "iopub.status.idle": "2020-11-27T14:28:26.719948Z",
     "shell.execute_reply": "2020-11-27T14:28:26.719611Z"
    }
   },
   "outputs": [],
   "source": [
    "model = nn.Sequential(\n",
    "    nn.Linear(1, 5),\n",
    "    DebugModule(),\n",
    "    nn.Linear(5, 1),\n",
    ")"
   ]
  },
  {
   "cell_type": "code",
   "execution_count": 8,
   "metadata": {
    "execution": {
     "iopub.execute_input": "2020-11-27T14:28:26.722773Z",
     "iopub.status.busy": "2020-11-27T14:28:26.722370Z",
     "iopub.status.idle": "2020-11-27T14:28:26.724488Z",
     "shell.execute_reply": "2020-11-27T14:28:26.724152Z"
    }
   },
   "outputs": [],
   "source": [
    "X = torch.unsqueeze(torch.tensor([1.]), dim=0)\n",
    "# model(X)"
   ]
  },
  {
   "cell_type": "markdown",
   "metadata": {},
   "source": [
    "## Tensorboard and `tensorboardX`\n",
    "Tensorboard and `tensorboardX` are also great to debug a model, e.g. to look at the gradients."
   ]
  }
 ],
 "metadata": {
  "kernelspec": {
   "display_name": "Python 3",
   "language": "python",
   "name": "python3"
  },
  "language_info": {
   "codemirror_mode": {
    "name": "ipython",
    "version": 3
   },
   "file_extension": ".py",
   "mimetype": "text/x-python",
   "name": "python",
   "nbconvert_exporter": "python",
   "pygments_lexer": "ipython3",
   "version": "3.8.5"
  }
 },
 "nbformat": 4,
 "nbformat_minor": 2
}
