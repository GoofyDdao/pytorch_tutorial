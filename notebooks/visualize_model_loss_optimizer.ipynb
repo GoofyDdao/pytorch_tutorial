{
 "cells": [
  {
   "cell_type": "markdown",
   "metadata": {},
   "source": [
    "# Software vs Machine Learning\n",
    "\n",
    "![](img/software_vs_ml.png)\n",
    "\n",
    "![](img/ml_debt.jpg)"
   ]
  },
  {
   "cell_type": "markdown",
   "metadata": {},
   "source": [
    "# Widget to visualize linear regression, error, and loss"
   ]
  },
  {
   "cell_type": "code",
   "execution_count": 1,
   "metadata": {
    "execution": {
     "iopub.execute_input": "2020-12-06T08:47:16.102981Z",
     "iopub.status.busy": "2020-12-06T08:47:16.102482Z",
     "iopub.status.idle": "2020-12-06T08:47:16.896356Z",
     "shell.execute_reply": "2020-12-06T08:47:16.895964Z"
    }
   },
   "outputs": [],
   "source": [
    "import numpy as np\n",
    "import altair as alt\n",
    "import pandas as pd\n",
    "import ipywidgets"
   ]
  },
  {
   "cell_type": "code",
   "execution_count": 2,
   "metadata": {
    "execution": {
     "iopub.execute_input": "2020-12-06T08:47:16.898803Z",
     "iopub.status.busy": "2020-12-06T08:47:16.898492Z",
     "iopub.status.idle": "2020-12-06T08:47:16.900235Z",
     "shell.execute_reply": "2020-12-06T08:47:16.899914Z"
    }
   },
   "outputs": [],
   "source": [
    "def f(x, slope: float, bias: float):\n",
    "    \"\"\"A simple linear model.\"\"\"\n",
    "    return x * slope + bias"
   ]
  },
  {
   "cell_type": "code",
   "execution_count": 3,
   "metadata": {
    "execution": {
     "iopub.execute_input": "2020-12-06T08:47:16.902594Z",
     "iopub.status.busy": "2020-12-06T08:47:16.902282Z",
     "iopub.status.idle": "2020-12-06T08:47:16.903967Z",
     "shell.execute_reply": "2020-12-06T08:47:16.903649Z"
    }
   },
   "outputs": [],
   "source": [
    "def err2(pred, true):\n",
    "    return (true - pred) ** 2\n",
    "\n",
    "def mse(pred, true):\n",
    "    return np.mean(err2(pred, true))"
   ]
  },
  {
   "cell_type": "code",
   "execution_count": 4,
   "metadata": {
    "execution": {
     "iopub.execute_input": "2020-12-06T08:47:16.907004Z",
     "iopub.status.busy": "2020-12-06T08:47:16.906683Z",
     "iopub.status.idle": "2020-12-06T08:47:16.908336Z",
     "shell.execute_reply": "2020-12-06T08:47:16.908015Z"
    }
   },
   "outputs": [],
   "source": [
    "n = 20\n",
    "std = 4\n",
    "\n",
    "x = np.linspace(-10, 10, 20)\n",
    "noise = np.random.normal(0, 2, size=n)\n",
    "\n",
    "y = f(x, slope=1.3, bias=5) + noise\n",
    "\n",
    "data = pd.DataFrame({\"x\": x, \"y\": y})"
   ]
  },
  {
   "cell_type": "code",
   "execution_count": 5,
   "metadata": {
    "execution": {
     "iopub.execute_input": "2020-12-06T08:47:16.912060Z",
     "iopub.status.busy": "2020-12-06T08:47:16.911741Z",
     "iopub.status.idle": "2020-12-06T08:47:16.913497Z",
     "shell.execute_reply": "2020-12-06T08:47:16.913178Z"
    }
   },
   "outputs": [],
   "source": [
    "slope_dom = np.linspace(-2, 4.5, 66)\n",
    "slope_losses = {\n",
    "    _slope: mse(f(x, _slope, bias=5), y)\n",
    "    for _slope in slope_dom\n",
    "}\n",
    "df_slope_losses = pd.DataFrame({\n",
    "    \"slope\": slope_losses.keys(),\n",
    "    \"loss\": slope_losses.values(),\n",
    "})"
   ]
  },
  {
   "cell_type": "code",
   "execution_count": 6,
   "metadata": {
    "execution": {
     "iopub.execute_input": "2020-12-06T08:47:16.915660Z",
     "iopub.status.busy": "2020-12-06T08:47:16.915356Z",
     "iopub.status.idle": "2020-12-06T08:47:16.942672Z",
     "shell.execute_reply": "2020-12-06T08:47:16.942405Z"
    }
   },
   "outputs": [
    {
     "data": {
      "text/plain": [
       "RendererRegistry.enable('altair_viewer')"
      ]
     },
     "execution_count": 1,
     "metadata": {},
     "output_type": "execute_result"
    }
   ],
   "source": [
    "alt.renderers.enable('altair_viewer')"
   ]
  },
  {
   "cell_type": "code",
   "execution_count": 7,
   "metadata": {
    "execution": {
     "iopub.execute_input": "2020-12-06T08:47:16.947880Z",
     "iopub.status.busy": "2020-12-06T08:47:16.947547Z",
     "iopub.status.idle": "2020-12-06T08:47:16.949295Z",
     "shell.execute_reply": "2020-12-06T08:47:16.948981Z"
    }
   },
   "outputs": [],
   "source": [
    "def show_lin_reg(\n",
    "    slope: float,\n",
    "    bias: float,\n",
    "    show_pred=True,\n",
    "    show_err=True,\n",
    "    show_err2=False,\n",
    "    show_loss_landscape=False,\n",
    "):\n",
    "    \n",
    "    pred = x * slope + bias\n",
    "    \n",
    "    data[\"pred\"] = pred\n",
    "    data[\"err\"] = y - pred\n",
    "    data[\"err2\"] = (y - pred) ** 2\n",
    "    data[\"x2\"] = x - data[\"err\"]\n",
    "\n",
    "    mse = np.mean(data['err2'])\n",
    "    mae = np.mean(np.abs(data['err']))\n",
    "    \n",
    "    chart = (\n",
    "        alt.Chart(data)\n",
    "        .mark_point()\n",
    "        .encode(x=\"x\", y=\"y\")\n",
    "        .properties(title=f\"Lin Reg | MSE: {mse:5.01f} | MAE: {mae:5.02f}\")\n",
    "    )\n",
    "    if show_pred:\n",
    "        chart += (\n",
    "            alt.Chart(data)\n",
    "            .mark_line()\n",
    "            .encode(x=\"x\", y=\"pred\")\n",
    "        )\n",
    "    if show_err:\n",
    "        chart += (\n",
    "            alt.Chart(data)\n",
    "            .mark_line()\n",
    "            .encode(x=\"x\", y=\"y\", y2=\"pred\")\n",
    "\n",
    "        )\n",
    "    if show_err2:\n",
    "        chart += (\n",
    "            alt.Chart(data)\n",
    "            .mark_rect(fill=\"none\", stroke=\"red\")\n",
    "            .encode(x=\"x\", y=\"y\", x2=\"x2\", y2=\"pred\")\n",
    "\n",
    "        )\n",
    "    \n",
    "\n",
    "    if not show_loss_landscape:\n",
    "        return chart\n",
    "    \n",
    "    _chart_loss = (\n",
    "        alt.Chart(df_slope_losses)\n",
    "        .mark_line()\n",
    "        .encode(x=\"slope\", y=\"loss\")\n",
    "        .properties(title=\"Loss Landscape (slope)\")\n",
    "    )\n",
    "    _chart_loss_hl = (\n",
    "        alt.Chart(pd.DataFrame({\"x\": [slope], \"y\": [0], \"y2\": [400]}))\n",
    "        .mark_line()\n",
    "        .encode(x=\"x\", y=\"y\", y2=\"y2\")\n",
    "    )\n",
    "    return chart | (_chart_loss + _chart_loss_hl)"
   ]
  },
  {
   "cell_type": "code",
   "execution_count": 8,
   "metadata": {
    "execution": {
     "iopub.execute_input": "2020-12-06T08:47:16.951308Z",
     "iopub.status.busy": "2020-12-06T08:47:16.950908Z",
     "iopub.status.idle": "2020-12-06T08:47:16.952542Z",
     "shell.execute_reply": "2020-12-06T08:47:16.952226Z"
    }
   },
   "outputs": [],
   "source": [
    "# show_lin_reg(\n",
    "#     slope=.3,\n",
    "#     bias=8,\n",
    "#     show_pred=True,\n",
    "#     show_err=True,\n",
    "#     show_err2=False,\n",
    "# )   "
   ]
  },
  {
   "cell_type": "code",
   "execution_count": 9,
   "metadata": {
    "execution": {
     "iopub.execute_input": "2020-12-06T08:47:16.980582Z",
     "iopub.status.busy": "2020-12-06T08:47:16.980059Z",
     "iopub.status.idle": "2020-12-06T08:47:17.234957Z",
     "shell.execute_reply": "2020-12-06T08:47:17.233045Z"
    }
   },
   "outputs": [
    {
     "data": {
      "application/vnd.jupyter.widget-view+json": {
       "model_id": "7eb85cb6fe8b4d339086f5b58927b357",
       "version_major": 2,
       "version_minor": 0
      },
      "text/plain": [
       "interactive(children=(FloatSlider(value=0.0, description='slope', max=2.0, min=-2.0), FloatSlider(value=0.0, d…"
      ]
     },
     "metadata": {},
     "output_type": "display_data"
    },
    {
     "data": {
      "text/plain": [
       "<function __main__.show_lin_reg(slope: float, bias: float, show_pred=True, show_err=True, show_err2=False, show_loss_landscape=False)>"
      ]
     },
     "execution_count": 1,
     "metadata": {},
     "output_type": "execute_result"
    }
   ],
   "source": [
    "ipywidgets.interact(\n",
    "    show_lin_reg,\n",
    "    slope=(-2.0, 2.0),\n",
    "    bias=(-8.0, 8.0),\n",
    "    show_pred=True,\n",
    "    show_err=False,\n",
    ")"
   ]
  },
  {
   "cell_type": "markdown",
   "metadata": {},
   "source": [
    "## Linear regression - more formally\n",
    "\n",
    "0. Data\n",
    "\n",
    "\n",
    "1. Model:\n",
    "  - $f(X) = X \\beta = \\hat y$\n",
    "\n",
    "\n",
    "2. Loss / criterion:\n",
    "  - $ err_i = y_i - f(X_i)$\n",
    "  - $MSE = \\frac{1}{n} \\sum_{i=1}^{N} err_i^2$\n",
    "\n",
    "\n",
    "3. Optimize:\n",
    "  - minimize the MSE yields the optimal $\\hat\\beta$ (after doing some math)\n",
    "  - $\\hat\\beta = (X^TX)^{-1}X^Ty$\n",
    "  - (or, more generally, use gradient descent to optimize the parameters)"
   ]
  }
 ],
 "metadata": {
  "kernelspec": {
   "display_name": "Python 3",
   "language": "python",
   "name": "python3"
  },
  "language_info": {
   "codemirror_mode": {
    "name": "ipython",
    "version": 3
   },
   "file_extension": ".py",
   "mimetype": "text/x-python",
   "name": "python",
   "nbconvert_exporter": "python",
   "pygments_lexer": "ipython3",
   "version": "3.8.5"
  },
  "widgets": {
   "application/vnd.jupyter.widget-state+json": {
    "state": {
     "09b97b4ea31a40abb69a5300b3ad639e": {
      "model_module": "@jupyter-widgets/base",
      "model_module_version": "1.2.0",
      "model_name": "LayoutModel",
      "state": {
       "_model_module": "@jupyter-widgets/base",
       "_model_module_version": "1.2.0",
       "_model_name": "LayoutModel",
       "_view_count": null,
       "_view_module": "@jupyter-widgets/base",
       "_view_module_version": "1.2.0",
       "_view_name": "LayoutView",
       "align_content": null,
       "align_items": null,
       "align_self": null,
       "border": null,
       "bottom": null,
       "display": null,
       "flex": null,
       "flex_flow": null,
       "grid_area": null,
       "grid_auto_columns": null,
       "grid_auto_flow": null,
       "grid_auto_rows": null,
       "grid_column": null,
       "grid_gap": null,
       "grid_row": null,
       "grid_template_areas": null,
       "grid_template_columns": null,
       "grid_template_rows": null,
       "height": null,
       "justify_content": null,
       "justify_items": null,
       "left": null,
       "margin": null,
       "max_height": null,
       "max_width": null,
       "min_height": null,
       "min_width": null,
       "object_fit": null,
       "object_position": null,
       "order": null,
       "overflow": null,
       "overflow_x": null,
       "overflow_y": null,
       "padding": null,
       "right": null,
       "top": null,
       "visibility": null,
       "width": null
      }
     },
     "16ec81ec3cf54357a6a9c9ba47fdd92e": {
      "model_module": "@jupyter-widgets/controls",
      "model_module_version": "1.5.0",
      "model_name": "FloatSliderModel",
      "state": {
       "_dom_classes": [],
       "_model_module": "@jupyter-widgets/controls",
       "_model_module_version": "1.5.0",
       "_model_name": "FloatSliderModel",
       "_view_count": null,
       "_view_module": "@jupyter-widgets/controls",
       "_view_module_version": "1.5.0",
       "_view_name": "FloatSliderView",
       "continuous_update": true,
       "description": "bias",
       "description_tooltip": null,
       "disabled": false,
       "layout": "IPY_MODEL_6c1da46c79194f80bb4fef9e76e2978b",
       "max": 8.0,
       "min": -8.0,
       "orientation": "horizontal",
       "readout": true,
       "readout_format": ".2f",
       "step": 0.1,
       "style": "IPY_MODEL_d9c4e73a54b94298b1477efd929ae9cb",
       "value": 0.0
      }
     },
     "2f3e6cc86aab42b3beeae85873fa4006": {
      "model_module": "@jupyter-widgets/base",
      "model_module_version": "1.2.0",
      "model_name": "LayoutModel",
      "state": {
       "_model_module": "@jupyter-widgets/base",
       "_model_module_version": "1.2.0",
       "_model_name": "LayoutModel",
       "_view_count": null,
       "_view_module": "@jupyter-widgets/base",
       "_view_module_version": "1.2.0",
       "_view_name": "LayoutView",
       "align_content": null,
       "align_items": null,
       "align_self": null,
       "border": null,
       "bottom": null,
       "display": null,
       "flex": null,
       "flex_flow": null,
       "grid_area": null,
       "grid_auto_columns": null,
       "grid_auto_flow": null,
       "grid_auto_rows": null,
       "grid_column": null,
       "grid_gap": null,
       "grid_row": null,
       "grid_template_areas": null,
       "grid_template_columns": null,
       "grid_template_rows": null,
       "height": null,
       "justify_content": null,
       "justify_items": null,
       "left": null,
       "margin": null,
       "max_height": null,
       "max_width": null,
       "min_height": null,
       "min_width": null,
       "object_fit": null,
       "object_position": null,
       "order": null,
       "overflow": null,
       "overflow_x": null,
       "overflow_y": null,
       "padding": null,
       "right": null,
       "top": null,
       "visibility": null,
       "width": null
      }
     },
     "3978d4af9246449698eb882c2d24e2b6": {
      "model_module": "@jupyter-widgets/controls",
      "model_module_version": "1.5.0",
      "model_name": "DescriptionStyleModel",
      "state": {
       "_model_module": "@jupyter-widgets/controls",
       "_model_module_version": "1.5.0",
       "_model_name": "DescriptionStyleModel",
       "_view_count": null,
       "_view_module": "@jupyter-widgets/base",
       "_view_module_version": "1.2.0",
       "_view_name": "StyleView",
       "description_width": ""
      }
     },
     "6c1da46c79194f80bb4fef9e76e2978b": {
      "model_module": "@jupyter-widgets/base",
      "model_module_version": "1.2.0",
      "model_name": "LayoutModel",
      "state": {
       "_model_module": "@jupyter-widgets/base",
       "_model_module_version": "1.2.0",
       "_model_name": "LayoutModel",
       "_view_count": null,
       "_view_module": "@jupyter-widgets/base",
       "_view_module_version": "1.2.0",
       "_view_name": "LayoutView",
       "align_content": null,
       "align_items": null,
       "align_self": null,
       "border": null,
       "bottom": null,
       "display": null,
       "flex": null,
       "flex_flow": null,
       "grid_area": null,
       "grid_auto_columns": null,
       "grid_auto_flow": null,
       "grid_auto_rows": null,
       "grid_column": null,
       "grid_gap": null,
       "grid_row": null,
       "grid_template_areas": null,
       "grid_template_columns": null,
       "grid_template_rows": null,
       "height": null,
       "justify_content": null,
       "justify_items": null,
       "left": null,
       "margin": null,
       "max_height": null,
       "max_width": null,
       "min_height": null,
       "min_width": null,
       "object_fit": null,
       "object_position": null,
       "order": null,
       "overflow": null,
       "overflow_x": null,
       "overflow_y": null,
       "padding": null,
       "right": null,
       "top": null,
       "visibility": null,
       "width": null
      }
     },
     "7470fb246369457f9404c9e7027ef152": {
      "model_module": "@jupyter-widgets/base",
      "model_module_version": "1.2.0",
      "model_name": "LayoutModel",
      "state": {
       "_model_module": "@jupyter-widgets/base",
       "_model_module_version": "1.2.0",
       "_model_name": "LayoutModel",
       "_view_count": null,
       "_view_module": "@jupyter-widgets/base",
       "_view_module_version": "1.2.0",
       "_view_name": "LayoutView",
       "align_content": null,
       "align_items": null,
       "align_self": null,
       "border": null,
       "bottom": null,
       "display": null,
       "flex": null,
       "flex_flow": null,
       "grid_area": null,
       "grid_auto_columns": null,
       "grid_auto_flow": null,
       "grid_auto_rows": null,
       "grid_column": null,
       "grid_gap": null,
       "grid_row": null,
       "grid_template_areas": null,
       "grid_template_columns": null,
       "grid_template_rows": null,
       "height": null,
       "justify_content": null,
       "justify_items": null,
       "left": null,
       "margin": null,
       "max_height": null,
       "max_width": null,
       "min_height": null,
       "min_width": null,
       "object_fit": null,
       "object_position": null,
       "order": null,
       "overflow": null,
       "overflow_x": null,
       "overflow_y": null,
       "padding": null,
       "right": null,
       "top": null,
       "visibility": null,
       "width": null
      }
     },
     "7eb85cb6fe8b4d339086f5b58927b357": {
      "model_module": "@jupyter-widgets/controls",
      "model_module_version": "1.5.0",
      "model_name": "VBoxModel",
      "state": {
       "_dom_classes": [
        "widget-interact"
       ],
       "_model_module": "@jupyter-widgets/controls",
       "_model_module_version": "1.5.0",
       "_model_name": "VBoxModel",
       "_view_count": null,
       "_view_module": "@jupyter-widgets/controls",
       "_view_module_version": "1.5.0",
       "_view_name": "VBoxView",
       "box_style": "",
       "children": [
        "IPY_MODEL_83db8d80dc9a40fd9f81f340daf33ac8",
        "IPY_MODEL_16ec81ec3cf54357a6a9c9ba47fdd92e",
        "IPY_MODEL_c980e3a2ebab4a50bbd997831ccb4035",
        "IPY_MODEL_c8913c86b59e40c6b8fd180216d43714",
        "IPY_MODEL_f6445c10c9fa4506a2ea97db31a5d26d",
        "IPY_MODEL_a8585f8d7dcd4211b08d183cfa07aa5f",
        "IPY_MODEL_a38338c8eb9d4c109631c1cd85ac2b03"
       ],
       "layout": "IPY_MODEL_dc94c2ea9ed34dbba4dfda93495b994b"
      }
     },
     "83db8d80dc9a40fd9f81f340daf33ac8": {
      "model_module": "@jupyter-widgets/controls",
      "model_module_version": "1.5.0",
      "model_name": "FloatSliderModel",
      "state": {
       "_dom_classes": [],
       "_model_module": "@jupyter-widgets/controls",
       "_model_module_version": "1.5.0",
       "_model_name": "FloatSliderModel",
       "_view_count": null,
       "_view_module": "@jupyter-widgets/controls",
       "_view_module_version": "1.5.0",
       "_view_name": "FloatSliderView",
       "continuous_update": true,
       "description": "slope",
       "description_tooltip": null,
       "disabled": false,
       "layout": "IPY_MODEL_09b97b4ea31a40abb69a5300b3ad639e",
       "max": 2.0,
       "min": -2.0,
       "orientation": "horizontal",
       "readout": true,
       "readout_format": ".2f",
       "step": 0.1,
       "style": "IPY_MODEL_b4546ab9406548788b15a4acb8267159",
       "value": 0.0
      }
     },
     "9859c8658955478d9cef0abbcf5a7615": {
      "model_module": "@jupyter-widgets/controls",
      "model_module_version": "1.5.0",
      "model_name": "DescriptionStyleModel",
      "state": {
       "_model_module": "@jupyter-widgets/controls",
       "_model_module_version": "1.5.0",
       "_model_name": "DescriptionStyleModel",
       "_view_count": null,
       "_view_module": "@jupyter-widgets/base",
       "_view_module_version": "1.2.0",
       "_view_name": "StyleView",
       "description_width": ""
      }
     },
     "a38338c8eb9d4c109631c1cd85ac2b03": {
      "model_module": "@jupyter-widgets/output",
      "model_module_version": "1.0.0",
      "model_name": "OutputModel",
      "state": {
       "_dom_classes": [],
       "_model_module": "@jupyter-widgets/output",
       "_model_module_version": "1.0.0",
       "_model_name": "OutputModel",
       "_view_count": null,
       "_view_module": "@jupyter-widgets/output",
       "_view_module_version": "1.0.0",
       "_view_name": "OutputView",
       "layout": "IPY_MODEL_2f3e6cc86aab42b3beeae85873fa4006",
       "msg_id": "",
       "outputs": [
        {
         "data": {
          "text/html": "Displaying chart at <a href='http://localhost:17474/' target='_blank'>http://localhost:17474/</a>",
          "text/plain": "Displaying chart at http://localhost:17474/"
         },
         "metadata": {},
         "output_type": "display_data"
        }
       ]
      }
     },
     "a8585f8d7dcd4211b08d183cfa07aa5f": {
      "model_module": "@jupyter-widgets/controls",
      "model_module_version": "1.5.0",
      "model_name": "CheckboxModel",
      "state": {
       "_dom_classes": [],
       "_model_module": "@jupyter-widgets/controls",
       "_model_module_version": "1.5.0",
       "_model_name": "CheckboxModel",
       "_view_count": null,
       "_view_module": "@jupyter-widgets/controls",
       "_view_module_version": "1.5.0",
       "_view_name": "CheckboxView",
       "description": "show_loss_landscape",
       "description_tooltip": null,
       "disabled": false,
       "indent": true,
       "layout": "IPY_MODEL_7470fb246369457f9404c9e7027ef152",
       "style": "IPY_MODEL_c31486fe2c404f94b50a4accda2b1454",
       "value": false
      }
     },
     "aba1f2d2062e48adb6605d4c409965ab": {
      "model_module": "@jupyter-widgets/controls",
      "model_module_version": "1.5.0",
      "model_name": "DescriptionStyleModel",
      "state": {
       "_model_module": "@jupyter-widgets/controls",
       "_model_module_version": "1.5.0",
       "_model_name": "DescriptionStyleModel",
       "_view_count": null,
       "_view_module": "@jupyter-widgets/base",
       "_view_module_version": "1.2.0",
       "_view_name": "StyleView",
       "description_width": ""
      }
     },
     "b4546ab9406548788b15a4acb8267159": {
      "model_module": "@jupyter-widgets/controls",
      "model_module_version": "1.5.0",
      "model_name": "SliderStyleModel",
      "state": {
       "_model_module": "@jupyter-widgets/controls",
       "_model_module_version": "1.5.0",
       "_model_name": "SliderStyleModel",
       "_view_count": null,
       "_view_module": "@jupyter-widgets/base",
       "_view_module_version": "1.2.0",
       "_view_name": "StyleView",
       "description_width": "",
       "handle_color": null
      }
     },
     "c31486fe2c404f94b50a4accda2b1454": {
      "model_module": "@jupyter-widgets/controls",
      "model_module_version": "1.5.0",
      "model_name": "DescriptionStyleModel",
      "state": {
       "_model_module": "@jupyter-widgets/controls",
       "_model_module_version": "1.5.0",
       "_model_name": "DescriptionStyleModel",
       "_view_count": null,
       "_view_module": "@jupyter-widgets/base",
       "_view_module_version": "1.2.0",
       "_view_name": "StyleView",
       "description_width": ""
      }
     },
     "c8913c86b59e40c6b8fd180216d43714": {
      "model_module": "@jupyter-widgets/controls",
      "model_module_version": "1.5.0",
      "model_name": "CheckboxModel",
      "state": {
       "_dom_classes": [],
       "_model_module": "@jupyter-widgets/controls",
       "_model_module_version": "1.5.0",
       "_model_name": "CheckboxModel",
       "_view_count": null,
       "_view_module": "@jupyter-widgets/controls",
       "_view_module_version": "1.5.0",
       "_view_name": "CheckboxView",
       "description": "show_err",
       "description_tooltip": null,
       "disabled": false,
       "indent": true,
       "layout": "IPY_MODEL_e2f8b02705174d36b5cae00397fe100d",
       "style": "IPY_MODEL_9859c8658955478d9cef0abbcf5a7615",
       "value": false
      }
     },
     "c980e3a2ebab4a50bbd997831ccb4035": {
      "model_module": "@jupyter-widgets/controls",
      "model_module_version": "1.5.0",
      "model_name": "CheckboxModel",
      "state": {
       "_dom_classes": [],
       "_model_module": "@jupyter-widgets/controls",
       "_model_module_version": "1.5.0",
       "_model_name": "CheckboxModel",
       "_view_count": null,
       "_view_module": "@jupyter-widgets/controls",
       "_view_module_version": "1.5.0",
       "_view_name": "CheckboxView",
       "description": "show_pred",
       "description_tooltip": null,
       "disabled": false,
       "indent": true,
       "layout": "IPY_MODEL_f003d370e4df40f48c445d02dd1f9d97",
       "style": "IPY_MODEL_3978d4af9246449698eb882c2d24e2b6",
       "value": true
      }
     },
     "cc750dde96ad457288397e46ebd08c3b": {
      "model_module": "@jupyter-widgets/base",
      "model_module_version": "1.2.0",
      "model_name": "LayoutModel",
      "state": {
       "_model_module": "@jupyter-widgets/base",
       "_model_module_version": "1.2.0",
       "_model_name": "LayoutModel",
       "_view_count": null,
       "_view_module": "@jupyter-widgets/base",
       "_view_module_version": "1.2.0",
       "_view_name": "LayoutView",
       "align_content": null,
       "align_items": null,
       "align_self": null,
       "border": null,
       "bottom": null,
       "display": null,
       "flex": null,
       "flex_flow": null,
       "grid_area": null,
       "grid_auto_columns": null,
       "grid_auto_flow": null,
       "grid_auto_rows": null,
       "grid_column": null,
       "grid_gap": null,
       "grid_row": null,
       "grid_template_areas": null,
       "grid_template_columns": null,
       "grid_template_rows": null,
       "height": null,
       "justify_content": null,
       "justify_items": null,
       "left": null,
       "margin": null,
       "max_height": null,
       "max_width": null,
       "min_height": null,
       "min_width": null,
       "object_fit": null,
       "object_position": null,
       "order": null,
       "overflow": null,
       "overflow_x": null,
       "overflow_y": null,
       "padding": null,
       "right": null,
       "top": null,
       "visibility": null,
       "width": null
      }
     },
     "d9c4e73a54b94298b1477efd929ae9cb": {
      "model_module": "@jupyter-widgets/controls",
      "model_module_version": "1.5.0",
      "model_name": "SliderStyleModel",
      "state": {
       "_model_module": "@jupyter-widgets/controls",
       "_model_module_version": "1.5.0",
       "_model_name": "SliderStyleModel",
       "_view_count": null,
       "_view_module": "@jupyter-widgets/base",
       "_view_module_version": "1.2.0",
       "_view_name": "StyleView",
       "description_width": "",
       "handle_color": null
      }
     },
     "dc94c2ea9ed34dbba4dfda93495b994b": {
      "model_module": "@jupyter-widgets/base",
      "model_module_version": "1.2.0",
      "model_name": "LayoutModel",
      "state": {
       "_model_module": "@jupyter-widgets/base",
       "_model_module_version": "1.2.0",
       "_model_name": "LayoutModel",
       "_view_count": null,
       "_view_module": "@jupyter-widgets/base",
       "_view_module_version": "1.2.0",
       "_view_name": "LayoutView",
       "align_content": null,
       "align_items": null,
       "align_self": null,
       "border": null,
       "bottom": null,
       "display": null,
       "flex": null,
       "flex_flow": null,
       "grid_area": null,
       "grid_auto_columns": null,
       "grid_auto_flow": null,
       "grid_auto_rows": null,
       "grid_column": null,
       "grid_gap": null,
       "grid_row": null,
       "grid_template_areas": null,
       "grid_template_columns": null,
       "grid_template_rows": null,
       "height": null,
       "justify_content": null,
       "justify_items": null,
       "left": null,
       "margin": null,
       "max_height": null,
       "max_width": null,
       "min_height": null,
       "min_width": null,
       "object_fit": null,
       "object_position": null,
       "order": null,
       "overflow": null,
       "overflow_x": null,
       "overflow_y": null,
       "padding": null,
       "right": null,
       "top": null,
       "visibility": null,
       "width": null
      }
     },
     "e2f8b02705174d36b5cae00397fe100d": {
      "model_module": "@jupyter-widgets/base",
      "model_module_version": "1.2.0",
      "model_name": "LayoutModel",
      "state": {
       "_model_module": "@jupyter-widgets/base",
       "_model_module_version": "1.2.0",
       "_model_name": "LayoutModel",
       "_view_count": null,
       "_view_module": "@jupyter-widgets/base",
       "_view_module_version": "1.2.0",
       "_view_name": "LayoutView",
       "align_content": null,
       "align_items": null,
       "align_self": null,
       "border": null,
       "bottom": null,
       "display": null,
       "flex": null,
       "flex_flow": null,
       "grid_area": null,
       "grid_auto_columns": null,
       "grid_auto_flow": null,
       "grid_auto_rows": null,
       "grid_column": null,
       "grid_gap": null,
       "grid_row": null,
       "grid_template_areas": null,
       "grid_template_columns": null,
       "grid_template_rows": null,
       "height": null,
       "justify_content": null,
       "justify_items": null,
       "left": null,
       "margin": null,
       "max_height": null,
       "max_width": null,
       "min_height": null,
       "min_width": null,
       "object_fit": null,
       "object_position": null,
       "order": null,
       "overflow": null,
       "overflow_x": null,
       "overflow_y": null,
       "padding": null,
       "right": null,
       "top": null,
       "visibility": null,
       "width": null
      }
     },
     "f003d370e4df40f48c445d02dd1f9d97": {
      "model_module": "@jupyter-widgets/base",
      "model_module_version": "1.2.0",
      "model_name": "LayoutModel",
      "state": {
       "_model_module": "@jupyter-widgets/base",
       "_model_module_version": "1.2.0",
       "_model_name": "LayoutModel",
       "_view_count": null,
       "_view_module": "@jupyter-widgets/base",
       "_view_module_version": "1.2.0",
       "_view_name": "LayoutView",
       "align_content": null,
       "align_items": null,
       "align_self": null,
       "border": null,
       "bottom": null,
       "display": null,
       "flex": null,
       "flex_flow": null,
       "grid_area": null,
       "grid_auto_columns": null,
       "grid_auto_flow": null,
       "grid_auto_rows": null,
       "grid_column": null,
       "grid_gap": null,
       "grid_row": null,
       "grid_template_areas": null,
       "grid_template_columns": null,
       "grid_template_rows": null,
       "height": null,
       "justify_content": null,
       "justify_items": null,
       "left": null,
       "margin": null,
       "max_height": null,
       "max_width": null,
       "min_height": null,
       "min_width": null,
       "object_fit": null,
       "object_position": null,
       "order": null,
       "overflow": null,
       "overflow_x": null,
       "overflow_y": null,
       "padding": null,
       "right": null,
       "top": null,
       "visibility": null,
       "width": null
      }
     },
     "f6445c10c9fa4506a2ea97db31a5d26d": {
      "model_module": "@jupyter-widgets/controls",
      "model_module_version": "1.5.0",
      "model_name": "CheckboxModel",
      "state": {
       "_dom_classes": [],
       "_model_module": "@jupyter-widgets/controls",
       "_model_module_version": "1.5.0",
       "_model_name": "CheckboxModel",
       "_view_count": null,
       "_view_module": "@jupyter-widgets/controls",
       "_view_module_version": "1.5.0",
       "_view_name": "CheckboxView",
       "description": "show_err2",
       "description_tooltip": null,
       "disabled": false,
       "indent": true,
       "layout": "IPY_MODEL_cc750dde96ad457288397e46ebd08c3b",
       "style": "IPY_MODEL_aba1f2d2062e48adb6605d4c409965ab",
       "value": false
      }
     }
    },
    "version_major": 2,
    "version_minor": 0
   }
  }
 },
 "nbformat": 4,
 "nbformat_minor": 4
}
